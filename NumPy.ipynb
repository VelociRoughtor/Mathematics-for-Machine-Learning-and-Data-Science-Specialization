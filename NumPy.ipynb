{
  "nbformat": 4,
  "nbformat_minor": 0,
  "metadata": {
    "colab": {
      "provenance": [],
      "authorship_tag": "ABX9TyNU9ec4l7h51zRNGVee3kFP",
      "include_colab_link": true
    },
    "kernelspec": {
      "name": "python3",
      "display_name": "Python 3"
    },
    "language_info": {
      "name": "python"
    }
  },
  "cells": [
    {
      "cell_type": "markdown",
      "metadata": {
        "id": "view-in-github",
        "colab_type": "text"
      },
      "source": [
        "<a href=\"https://colab.research.google.com/github/VelociRoughtor/Mathematics-for-Machine-Learning-and-Data-Science-Specialization/blob/main/NumPy.ipynb\" target=\"_parent\"><img src=\"https://colab.research.google.com/assets/colab-badge.svg\" alt=\"Open In Colab\"/></a>"
      ]
    },
    {
      "cell_type": "markdown",
      "source": [
        "# **1 - Basics of NumPy**\n",
        "---"
      ],
      "metadata": {
        "id": "ebF0UUJDTDj8"
      }
    },
    {
      "cell_type": "markdown",
      "source": [
        "**NumPy** (Numerical Python) is a Python library used for:\n",
        "\n",
        "*   Efficient numerical operations on large data sets\n",
        "*   Working with arrays and matrices\n",
        "*   Providing mathematical functions (e.g., linear algebra, statistics)\n",
        "\n",
        "\n",
        "    \n",
        "\n",
        "    \n",
        "\n",
        "    "
      ],
      "metadata": {
        "id": "36CN2MZmTQhq"
      }
    },
    {
      "cell_type": "markdown",
      "source": [
        "### **1.1 - Installation**\n",
        "---"
      ],
      "metadata": {
        "id": "ocPuWdN7T5gT"
      }
    },
    {
      "cell_type": "markdown",
      "source": [
        "```\n",
        "pip install numpy\n",
        "```"
      ],
      "metadata": {
        "id": "8lcSFBcsUFv9"
      }
    },
    {
      "cell_type": "markdown",
      "source": [
        "### **1.2 - Import**\n",
        "---"
      ],
      "metadata": {
        "id": "F6ANKvw5UOlT"
      }
    },
    {
      "cell_type": "code",
      "source": [
        "import numpy as np"
      ],
      "metadata": {
        "id": "qmO3DGruUCYB"
      },
      "execution_count": 1,
      "outputs": []
    },
    {
      "cell_type": "markdown",
      "source": [
        "### **1.3 - Advantages of using NumPy arrays**\n",
        "---"
      ],
      "metadata": {
        "id": "Kfi6BednUiuo"
      }
    },
    {
      "cell_type": "markdown",
      "source": [
        "Arrays are the core data structure in NumPy, designed to store elements of the same type in a compact and efficient way. Unlike Python lists which takes more space and time, NumPy arrays (called **ndarray meaning 'n-dimentional array'**) are faster, more memory-efficient, and support a wide range of built-in functions for numerical operations.\n",
        "\n",
        "A 1-D array is the simplest form, similar to a list, but optimized for high-performance computing.\n",
        "\n",
        "**In NumPy, all of the elements within the array are of the same type.**"
      ],
      "metadata": {
        "id": "yXR7b8PbVHkY"
      }
    },
    {
      "cell_type": "code",
      "source": [
        "arr = np.array([10, 12])\n",
        "print(arr)"
      ],
      "metadata": {
        "colab": {
          "base_uri": "https://localhost:8080/"
        },
        "id": "Ob0Tl_i2WFCL",
        "outputId": "69360a0c-45e4-4438-981a-00fe4fc801e9"
      },
      "execution_count": 2,
      "outputs": [
        {
          "output_type": "stream",
          "name": "stdout",
          "text": [
            "[10 12]\n"
          ]
        }
      ]
    },
    {
      "cell_type": "markdown",
      "source": [
        "### **1.4 - How to create NumPy arrays**\n",
        "---"
      ],
      "metadata": {
        "id": "Qqfk-XncWQe6"
      }
    },
    {
      "cell_type": "markdown",
      "source": [
        "We can create a 1-D array by simply using the function `array()` which takes in a list of values as an argument and returns a 1-D array.\n",
        "\n"
      ],
      "metadata": {
        "id": "VjDc-YGyWUfJ"
      }
    },
    {
      "cell_type": "code",
      "source": [
        "# Create and print a NumPy array 'a' containing the elements 1, 2, 3.\n",
        "a = np.array([1, 2, 3])\n",
        "print(a)"
      ],
      "metadata": {
        "colab": {
          "base_uri": "https://localhost:8080/"
        },
        "id": "oqtkzm0RWqi7",
        "outputId": "f77cd88d-0ad5-4731-fb74-4da8817b11a7"
      },
      "execution_count": 5,
      "outputs": [
        {
          "output_type": "stream",
          "name": "stdout",
          "text": [
            "[1 2 3]\n"
          ]
        }
      ]
    },
    {
      "cell_type": "markdown",
      "source": [
        "Another way to implement an array is using `np.arange()`. This function will return an array of evenly spaced values within a given interval."
      ],
      "metadata": {
        "id": "eZxxnp6eT9l8"
      }
    },
    {
      "cell_type": "code",
      "source": [
        "# Create an array with 3 integers, starting from the default integer 0.\n",
        "b = np.arange(3)\n",
        "print(b)"
      ],
      "metadata": {
        "colab": {
          "base_uri": "https://localhost:8080/"
        },
        "id": "LN2tyVMiXC-K",
        "outputId": "8ee04bd8-4664-48c7-cacd-f1fdebd2f9a1"
      },
      "execution_count": 4,
      "outputs": [
        {
          "output_type": "stream",
          "name": "stdout",
          "text": [
            "[0 1 2]\n"
          ]
        }
      ]
    },
    {
      "cell_type": "code",
      "source": [
        "# Create an array that starts from the integer 1, ends at 20, incremented by 3.\n",
        "c = np.arange(1, 20, 3)\n",
        "print(c)"
      ],
      "metadata": {
        "colab": {
          "base_uri": "https://localhost:8080/"
        },
        "id": "BvieDl1OW2_e",
        "outputId": "25160796-531f-4d14-d863-43c0f0583a12"
      },
      "execution_count": 7,
      "outputs": [
        {
          "output_type": "stream",
          "name": "stdout",
          "text": [
            "[ 1  4  7 10 13 16 19]\n"
          ]
        }
      ]
    },
    {
      "cell_type": "code",
      "source": [
        "val = np.arange(0, 100, 5)\n",
        "print(val)"
      ],
      "metadata": {
        "colab": {
          "base_uri": "https://localhost:8080/"
        },
        "id": "tpGEZ6URZhjn",
        "outputId": "6a022f04-8153-4687-e6ec-ead1d5741ec5"
      },
      "execution_count": 11,
      "outputs": [
        {
          "output_type": "stream",
          "name": "stdout",
          "text": [
            "[ 0  5 10 15 20 25 30 35 40 45 50 55 60 65 70 75 80 85 90 95]\n"
          ]
        }
      ]
    },
    {
      "cell_type": "markdown",
      "source": [
        "### **Excercise**"
      ],
      "metadata": {
        "id": "9JT5oq2aYkoE"
      }
    },
    {
      "cell_type": "markdown",
      "source": [
        "> Create an array with five evenly spaced values in the interval from 0 to 100."
      ],
      "metadata": {
        "id": "TP0UwriBYnzt"
      }
    },
    {
      "cell_type": "code",
      "source": [
        "equally_spaced_array = np.linspace(0, 100, 5)\n",
        "print(equally_spaced_array)"
      ],
      "metadata": {
        "colab": {
          "base_uri": "https://localhost:8080/"
        },
        "id": "uJdn-Mg7ZVUo",
        "outputId": "ed468fde-bd74-4427-a1f2-ce65cf0891db"
      },
      "execution_count": 12,
      "outputs": [
        {
          "output_type": "stream",
          "name": "stdout",
          "text": [
            "[  0.  25.  50.  75. 100.]\n"
          ]
        }
      ]
    },
    {
      "cell_type": "markdown",
      "source": [
        "By default this function is of type ```float64```. So, we can specify its type using ```dtype``` parameter.\n",
        "\n",
        "\n",
        "\n",
        "> dtype means data type\n",
        "\n",
        "\n",
        "\n"
      ],
      "metadata": {
        "id": "MqQykGt8Zxe6"
      }
    },
    {
      "cell_type": "code",
      "source": [
        "equally_spaced_array = np.linspace(0, 100, 5, dtype = int)\n",
        "print(equally_spaced_array)"
      ],
      "metadata": {
        "colab": {
          "base_uri": "https://localhost:8080/"
        },
        "id": "gafVHxzsaN6K",
        "outputId": "0cb5650b-89cd-43bf-9f1b-df657ea4ea55"
      },
      "execution_count": 13,
      "outputs": [
        {
          "output_type": "stream",
          "name": "stdout",
          "text": [
            "[  0  25  50  75 100]\n"
          ]
        }
      ]
    },
    {
      "cell_type": "code",
      "source": [
        "c = np.arange(3, dtype = float)\n",
        "print(c)"
      ],
      "metadata": {
        "colab": {
          "base_uri": "https://localhost:8080/"
        },
        "id": "It_evMCpaXCN",
        "outputId": "137f9f80-1e3a-4c39-e8f5-66c3e058e42b"
      },
      "execution_count": 14,
      "outputs": [
        {
          "output_type": "stream",
          "name": "stdout",
          "text": [
            "[0. 1. 2.]\n"
          ]
        }
      ]
    },
    {
      "cell_type": "code",
      "source": [
        "char_arr = np.array(['Welcome to Math for ML!'])\n",
        "print(char_arr)\n",
        "print(char_arr.dtype) # Prints the data type of the array"
      ],
      "metadata": {
        "colab": {
          "base_uri": "https://localhost:8080/"
        },
        "id": "wiUSkLPTajSq",
        "outputId": "dc3a1e2c-4fd8-42b8-8e19-43c07c6a46b7"
      },
      "execution_count": 15,
      "outputs": [
        {
          "output_type": "stream",
          "name": "stdout",
          "text": [
            "['Welcome to Math for ML!']\n",
            "<U23\n"
          ]
        }
      ]
    },
    {
      "cell_type": "markdown",
      "source": [
        "> the output of the data type of the `char_arr `array is `<U23`? This means that the string `('Welcome to Math for ML!')` is a 23-character (23) unicode string (`U`) on a little-endian architecture (`<`).\n",
        "\n"
      ],
      "metadata": {
        "id": "gQr47ReOaqQh"
      }
    },
    {
      "cell_type": "markdown",
      "source": [
        "### **1.5 - More on NumPy Arrays**\n",
        "---"
      ],
      "metadata": {
        "id": "-rs-k8-Ca9IF"
      }
    },
    {
      "cell_type": "markdown",
      "source": [
        "One of the advantages of using NumPy is that you can easily create arrays with built-in functions such as:\n",
        "\n",
        "* `np.ones()` - Returns a new array setting values to one.\n",
        "* `np.zeros()` - Returns a new array setting values to zero.\n",
        "* `np.empty()` - Returns a new uninitialized array.\n",
        "* `np.random.rand()` - Returns a new array with values chosen at random.\n"
      ],
      "metadata": {
        "id": "1foF_l6VbHAD"
      }
    },
    {
      "cell_type": "code",
      "source": [
        "# Return a new array of shape 3, filled with ones.\n",
        "ones = np.ones(3, dtype = int)\n",
        "print(ones)"
      ],
      "metadata": {
        "colab": {
          "base_uri": "https://localhost:8080/"
        },
        "id": "MF1qSDAKbdcF",
        "outputId": "c3c75f98-15fa-4385-e018-8e0679443dfd"
      },
      "execution_count": 17,
      "outputs": [
        {
          "output_type": "stream",
          "name": "stdout",
          "text": [
            "[1 1 1]\n"
          ]
        }
      ]
    },
    {
      "cell_type": "code",
      "source": [
        "# Return a new array of shape 3, filled with zeros.\n",
        "zeros = np.zeros(3, dtype = int)\n",
        "print(zeros)"
      ],
      "metadata": {
        "colab": {
          "base_uri": "https://localhost:8080/"
        },
        "id": "vxGwMmSkboWz",
        "outputId": "5f558321-d7b0-4250-a8d6-b569996ffade"
      },
      "execution_count": 18,
      "outputs": [
        {
          "output_type": "stream",
          "name": "stdout",
          "text": [
            "[0 0 0]\n"
          ]
        }
      ]
    },
    {
      "cell_type": "code",
      "source": [
        "# Return a new array of shape 3, without initializing entries.\n",
        "empty = np.empty(3)\n",
        "print(empty)"
      ],
      "metadata": {
        "colab": {
          "base_uri": "https://localhost:8080/"
        },
        "id": "7QEm-s57bv6T",
        "outputId": "1358fe96-e1c9-4367-8356-7bf658c77a45"
      },
      "execution_count": 25,
      "outputs": [
        {
          "output_type": "stream",
          "name": "stdout",
          "text": [
            "[1. 1. 1.]\n"
          ]
        }
      ]
    },
    {
      "cell_type": "code",
      "source": [
        "# Return a new array of shape 3 with random numbers between 0 and 1.\n",
        "rand_arr = np.random.rand(3)\n",
        "rand_arr = rand_arr * 100\n",
        "rand_arr = rand_arr.astype(int)\n",
        "print(rand_arr)"
      ],
      "metadata": {
        "colab": {
          "base_uri": "https://localhost:8080/"
        },
        "id": "bmRE1LdOcGLg",
        "outputId": "80b34568-a54d-46d3-88cd-337bdec1b5bb"
      },
      "execution_count": 33,
      "outputs": [
        {
          "output_type": "stream",
          "name": "stdout",
          "text": [
            "[58 84 90]\n"
          ]
        }
      ]
    },
    {
      "cell_type": "markdown",
      "source": [
        "# **2 - Multidimensional Array**\n",
        "---"
      ],
      "metadata": {
        "id": "7dlORZbuckQU"
      }
    },
    {
      "cell_type": "markdown",
      "source": [
        "With NumPy we can also create arrays with more than one dimension. In the above examples, we dealt with 1-D arrays, where we can access their elements using a single index. A multidimensional array has more than one column. Think of a multidimensional array as an excel sheet where each row/column represents a dimension.\n"
      ],
      "metadata": {
        "id": "qvy8ChgHcunO"
      }
    },
    {
      "cell_type": "markdown",
      "source": [
        "![image.png](data:image/png;base64,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)"
      ],
      "metadata": {
        "id": "WTq-PHfldeqh"
      }
    },
    {
      "cell_type": "markdown",
      "source": [
        "### **2.1 - Create Multidimensional Array**\n",
        "---"
      ],
      "metadata": {
        "id": "Fb0Yc2fBoJHH"
      }
    },
    {
      "cell_type": "code",
      "source": [
        "# Create a 2 dimensional array\n",
        "two_dim_arr = np.array([[1, 2, 3], [4, 5, 6]])\n",
        "print(two_dim_arr)"
      ],
      "metadata": {
        "colab": {
          "base_uri": "https://localhost:8080/"
        },
        "id": "4YraWxXSmV5s",
        "outputId": "79266c55-6906-48f9-db76-69b72e241b0c"
      },
      "execution_count": 34,
      "outputs": [
        {
          "output_type": "stream",
          "name": "stdout",
          "text": [
            "[[1 2 3]\n",
            " [4 5 6]]\n"
          ]
        }
      ]
    },
    {
      "cell_type": "markdown",
      "source": [
        "An alternative way to create a multidimensional array is by reshaping the initial 1-D array. Using `np.reshape()` you can rearrange elements of the previous array into a new shape."
      ],
      "metadata": {
        "id": "hD6UumL_mrBf"
      }
    },
    {
      "cell_type": "code",
      "source": [
        "# 1-D array\n",
        "one_dim_arr = np.array([1, 2, 3, 4, 5, 6])\n",
        "\n",
        "# Multidimensional array using reshape()\n",
        "multi_dim_arr = np.reshape(\n",
        "                one_dim_arr, # the array to be reshaped\n",
        "               (2,3) # dimensions of the new array\n",
        "              )\n",
        "# Print the new 2-D array with two rows and three columns\n",
        "print(multi_dim_arr)"
      ],
      "metadata": {
        "colab": {
          "base_uri": "https://localhost:8080/"
        },
        "id": "nzeVQCFCmlai",
        "outputId": "9fecdb57-5476-4d1d-d12a-cc8941f278c1"
      },
      "execution_count": 37,
      "outputs": [
        {
          "output_type": "stream",
          "name": "stdout",
          "text": [
            "[[1 2 3]\n",
            " [4 5 6]]\n"
          ]
        }
      ]
    },
    {
      "cell_type": "markdown",
      "source": [
        "### **2.2 - Finding size, shape, and dimension**\n",
        "---"
      ],
      "metadata": {
        "id": "RJr7-HAtnSF9"
      }
    },
    {
      "cell_type": "markdown",
      "source": [
        "* `ndarray.ndim` - Stores the number dimensions of the array.\n",
        "\n",
        "* `ndarray.shape` - Stores the shape of the array. Each number in the tuple denotes the lengths of each corresponding dimension.\n",
        "    \n",
        "* `ndarray.size` - Stores the number of elements in the array.\n",
        "\n"
      ],
      "metadata": {
        "id": "a5AopwcFnaJl"
      }
    },
    {
      "cell_type": "code",
      "source": [
        "# Dimension of the 2-D array\n",
        "two_dim_arr.ndim"
      ],
      "metadata": {
        "colab": {
          "base_uri": "https://localhost:8080/"
        },
        "id": "4AtfBw37nqVa",
        "outputId": "4d8dc118-4627-44b3-8863-09721619f7d0"
      },
      "execution_count": 38,
      "outputs": [
        {
          "output_type": "execute_result",
          "data": {
            "text/plain": [
              "2"
            ]
          },
          "metadata": {},
          "execution_count": 38
        }
      ]
    },
    {
      "cell_type": "code",
      "source": [
        "# Shape of the 2-D array\n",
        "two_dim_arr.shape"
      ],
      "metadata": {
        "colab": {
          "base_uri": "https://localhost:8080/"
        },
        "id": "VqIm6JoTn1M9",
        "outputId": "953d97d8-b76c-4b28-ed74-cf4550f93cdd"
      },
      "execution_count": 39,
      "outputs": [
        {
          "output_type": "execute_result",
          "data": {
            "text/plain": [
              "(2, 3)"
            ]
          },
          "metadata": {},
          "execution_count": 39
        }
      ]
    },
    {
      "cell_type": "code",
      "source": [
        "# Size of the 2-D array\n",
        "two_dim_arr.size"
      ],
      "metadata": {
        "colab": {
          "base_uri": "https://localhost:8080/"
        },
        "id": "BqWnGKA-n5Z0",
        "outputId": "99901191-8bb1-40e2-f82d-35e53c324396"
      },
      "execution_count": 40,
      "outputs": [
        {
          "output_type": "execute_result",
          "data": {
            "text/plain": [
              "6"
            ]
          },
          "metadata": {},
          "execution_count": 40
        }
      ]
    },
    {
      "cell_type": "markdown",
      "source": [
        "# **3 - Array Math Operation**\n",
        "---"
      ],
      "metadata": {
        "id": "pC5SRNfgoXCd"
      }
    },
    {
      "cell_type": "markdown",
      "source": [
        "### **3.1 - Basic algebraic operation**\n",
        "---"
      ],
      "metadata": {
        "id": "HYwIyyQhpWuN"
      }
    },
    {
      "cell_type": "markdown",
      "source": [
        "NumPy allows you to quickly perform elementwise addition, substraction, multiplication and division for both 1-D and multidimensional arrays. The operations are performed using the math symbol for each '+', '-' and '*'. Recall that addition of Python lists works completely differently as it would append the lists, thus making a longer list, in addition, subtraction and multiplication of Python lists do not work."
      ],
      "metadata": {
        "id": "vMUeIL6gofp3"
      }
    },
    {
      "cell_type": "code",
      "source": [
        "arr1 = np.array([1, 2, 3])\n",
        "arr2 = np.array([4, 5, 6])\n",
        "\n",
        "# Addition\n",
        "addition = arr1 + arr2\n",
        "print(addition)\n",
        "\n",
        "# Subtraction\n",
        "subtraction = arr1 - arr2\n",
        "print(subtraction)\n",
        "\n",
        "# Multiplication\n",
        "multiplication = arr1 * arr2\n",
        "print(multiplication)\n",
        "\n",
        "# Division\n",
        "division = arr1 / arr2\n",
        "print(division)"
      ],
      "metadata": {
        "colab": {
          "base_uri": "https://localhost:8080/"
        },
        "id": "qqc9Dtn4o4o8",
        "outputId": "1cf832b5-e4e0-4818-dff5-093ef54a368d"
      },
      "execution_count": 43,
      "outputs": [
        {
          "output_type": "stream",
          "name": "stdout",
          "text": [
            "[5 7 9]\n",
            "[-3 -3 -3]\n",
            "[ 4 10 18]\n",
            "[0.25 0.4  0.5 ]\n"
          ]
        }
      ]
    },
    {
      "cell_type": "markdown",
      "source": [
        "### **3.2 - Multiplying vector with a scalar (broadcasting)**\n",
        "---"
      ],
      "metadata": {
        "id": "Uapz_iUeplbC"
      }
    },
    {
      "cell_type": "markdown",
      "source": [
        "Suppose we need to convert miles to kilometers. To do so, we can use the NumPy array functions that we've learned so far. You can do this by carrying out an operation between an array (miles) and a single number (the conversion rate which is a scalar). Since, 1 mile = 1.6 km, NumPy computes each multiplication within each cell.\n",
        "\n",
        "This concept is called **broadcasting**, which allows you to perform operations specifically on arrays of different shapes."
      ],
      "metadata": {
        "id": "RkbZO4KEpuof"
      }
    },
    {
      "cell_type": "code",
      "source": [
        "vector = np.array([1, 2])\n",
        "vector = vector * 1.6\n",
        "print(vector)"
      ],
      "metadata": {
        "colab": {
          "base_uri": "https://localhost:8080/"
        },
        "id": "pwQb3JYrqLFl",
        "outputId": "ba4d8120-34fd-4cd8-b2d3-c144f585a112"
      },
      "execution_count": 45,
      "outputs": [
        {
          "output_type": "stream",
          "name": "stdout",
          "text": [
            "[1.6 3.2]\n"
          ]
        }
      ]
    },
    {
      "cell_type": "markdown",
      "source": [
        "### **4 - Indexing and slicing**\n",
        "---"
      ],
      "metadata": {
        "id": "Tr4QR05PqcTP"
      }
    },
    {
      "cell_type": "markdown",
      "source": [
        "Indexing is very useful as it allows us to select specific elements from an array. It also lets us select entire rows/columns for multidimensional arrays."
      ],
      "metadata": {
        "id": "31k0rgksqofC"
      }
    },
    {
      "cell_type": "markdown",
      "source": [
        "### **4.1 - Indexing**\n",
        "---"
      ],
      "metadata": {
        "id": "LWaD0Hpdq1yK"
      }
    },
    {
      "cell_type": "code",
      "source": [
        "# Select the third element of the array.\n",
        "a = np.array([1, 2, 3, 4, 5])\n",
        "print(a[2])"
      ],
      "metadata": {
        "colab": {
          "base_uri": "https://localhost:8080/"
        },
        "id": "q75pnFk3q8z5",
        "outputId": "4dfdcbd5-9976-4b8c-fdce-1c2d502bd806"
      },
      "execution_count": 46,
      "outputs": [
        {
          "output_type": "stream",
          "name": "stdout",
          "text": [
            "3\n"
          ]
        }
      ]
    },
    {
      "cell_type": "markdown",
      "source": [
        "For multidimensional arrays of shape `n`, to index a specific element, you must input `n` indices, one for each dimension."
      ],
      "metadata": {
        "id": "ngCZ5ppTrQu4"
      }
    },
    {
      "cell_type": "code",
      "source": [
        "b = np.array([\n",
        "    [1, 2, 3],\n",
        "    [4, 5, 6],\n",
        "    [7, 8, 9]]\n",
        ")\n",
        "print(b[1, 2])\n",
        "print(b[2][0])"
      ],
      "metadata": {
        "colab": {
          "base_uri": "https://localhost:8080/"
        },
        "id": "mTeWE_a-rI-4",
        "outputId": "4951d53a-ad0e-4e6e-c1ec-779032fd6c88"
      },
      "execution_count": 50,
      "outputs": [
        {
          "output_type": "stream",
          "name": "stdout",
          "text": [
            "6\n",
            "7\n"
          ]
        }
      ]
    },
    {
      "cell_type": "markdown",
      "source": [
        "### **4.2 - Slicing**\n",
        "---"
      ],
      "metadata": {
        "id": "a-iOwtanq7ZV"
      }
    },
    {
      "cell_type": "markdown",
      "source": [
        "Slicing gives us a sublist of elements that we specify from the array. The slice notation specifies a start and end value, and copies the list from start up to but not including the end (end-exclusive).\n",
        "\n",
        "The syntax is:\n",
        "\n",
        "`array[start:end:step]`\n",
        "\n",
        "> If no value is passed to start, it is assumed start = 0.\n",
        "\n",
        "> If no value is passed to end, it is assumed that end = length of array - 1.\n",
        "\n",
        "> If no value is passed to step, it is assumed step = 1."
      ],
      "metadata": {
        "id": "NOUduHwQr8me"
      }
    },
    {
      "cell_type": "code",
      "source": [
        "# Slice the array a to get the sub-array [2, 3, 4]\n",
        "slice1 = a[1 : 4]\n",
        "print(slice1)"
      ],
      "metadata": {
        "colab": {
          "base_uri": "https://localhost:8080/"
        },
        "id": "xWT6PyL5sjgA",
        "outputId": "b31750d6-c455-4593-f764-4a4fbb570b62"
      },
      "execution_count": 51,
      "outputs": [
        {
          "output_type": "stream",
          "name": "stdout",
          "text": [
            "[2 3 4]\n"
          ]
        }
      ]
    },
    {
      "cell_type": "code",
      "source": [
        "# Slice the array a to get the sub-array [1, 2, 3]\n",
        "slice2 = a[: 3]\n",
        "print(slice2)"
      ],
      "metadata": {
        "colab": {
          "base_uri": "https://localhost:8080/"
        },
        "id": "33ucFfzxtAZk",
        "outputId": "24ae6adb-59c7-4add-f290-60d63815536b"
      },
      "execution_count": 52,
      "outputs": [
        {
          "output_type": "stream",
          "name": "stdout",
          "text": [
            "[1 2 3]\n"
          ]
        }
      ]
    },
    {
      "cell_type": "code",
      "source": [
        "# Slice the array a to get the sub-array [3, 4, 5]\n",
        "slice3 = a[2 :]\n",
        "print(slice3)"
      ],
      "metadata": {
        "colab": {
          "base_uri": "https://localhost:8080/"
        },
        "id": "RzA8EBQZtSqf",
        "outputId": "ea1dc304-ebba-4f96-e63f-f34f4d441d11"
      },
      "execution_count": 53,
      "outputs": [
        {
          "output_type": "stream",
          "name": "stdout",
          "text": [
            "[3 4 5]\n"
          ]
        }
      ]
    },
    {
      "cell_type": "code",
      "source": [
        "# Slice the arrat to get the sub-array [1, 3, 5]\n",
        "slice4 = a[:: 2]\n",
        "print(slice4)"
      ],
      "metadata": {
        "colab": {
          "base_uri": "https://localhost:8080/"
        },
        "id": "qX8FWvCstbX_",
        "outputId": "328980ce-5893-4a9f-ca01-c1e515146c84"
      },
      "execution_count": 54,
      "outputs": [
        {
          "output_type": "stream",
          "name": "stdout",
          "text": [
            "[1 3 5]\n"
          ]
        }
      ]
    },
    {
      "cell_type": "markdown",
      "source": [
        "##### **Note that a == a[:] == a[::]**"
      ],
      "metadata": {
        "id": "AynBv5nKtyGB"
      }
    },
    {
      "cell_type": "code",
      "source": [
        "# Slice the 2-D array b to get the first two rows\n",
        "sliced1 = b[: 2]\n",
        "print(sliced1)"
      ],
      "metadata": {
        "colab": {
          "base_uri": "https://localhost:8080/"
        },
        "id": "yMWr1fgIt6wP",
        "outputId": "b4107952-94fa-4ec3-e92e-1c14d80f860a"
      },
      "execution_count": 58,
      "outputs": [
        {
          "output_type": "stream",
          "name": "stdout",
          "text": [
            "[[1 2 3]\n",
            " [4 5 6]]\n"
          ]
        }
      ]
    },
    {
      "cell_type": "code",
      "source": [
        "# Slice the 2-D array b to get the last two rows\n",
        "sliced2 = b[1 :]\n",
        "print(sliced2)"
      ],
      "metadata": {
        "colab": {
          "base_uri": "https://localhost:8080/"
        },
        "id": "zjeHQLLKugEu",
        "outputId": "945190de-5d9d-4db4-9963-1b6dd6033f5d"
      },
      "execution_count": 59,
      "outputs": [
        {
          "output_type": "stream",
          "name": "stdout",
          "text": [
            "[[4 5 6]\n",
            " [7 8 9]]\n"
          ]
        }
      ]
    },
    {
      "cell_type": "code",
      "source": [
        "# Second column\n",
        "print(b[:, 1])"
      ],
      "metadata": {
        "colab": {
          "base_uri": "https://localhost:8080/"
        },
        "id": "ZoMk2d2ou3xt",
        "outputId": "85787ac3-8e07-4571-c705-4914628b3b80"
      },
      "execution_count": 60,
      "outputs": [
        {
          "output_type": "stream",
          "name": "stdout",
          "text": [
            "[2 5 8]\n"
          ]
        }
      ]
    },
    {
      "cell_type": "markdown",
      "source": [
        "# **5 - Stacking**\n",
        "---"
      ],
      "metadata": {
        "id": "OfUX6UVJvMGk"
      }
    },
    {
      "cell_type": "markdown",
      "source": [
        "Finally, stacking is a feature of NumPy that leads to increased customization of arrays. It means to join two or more arrays, either horizontally or vertically, meaning that it is done along a new axis.\n",
        "\n",
        "> `np.vstack()` - stacks vertically\n",
        "    \n",
        "> `np.hstack()` - stacks horizontally\n",
        "    \n",
        "> `np.hsplit()` - splits an array into several smaller arrays\n"
      ],
      "metadata": {
        "id": "rx0ZKD2HvUnd"
      }
    },
    {
      "cell_type": "code",
      "source": [
        "a1 = np.array([[1, 1], [2, 2]])\n",
        "a2 = np.array([[3, 3], [4, 4]])\n",
        "\n",
        "print(f'a1: \\n{a1}')\n",
        "print(f'a2: \\n{a2}')"
      ],
      "metadata": {
        "colab": {
          "base_uri": "https://localhost:8080/"
        },
        "id": "exaWuxLBvp7_",
        "outputId": "87154a9a-819a-4a12-b46a-d45ed3d624c4"
      },
      "execution_count": 63,
      "outputs": [
        {
          "output_type": "stream",
          "name": "stdout",
          "text": [
            "a1: \n",
            "[[1 1]\n",
            " [2 2]]\n",
            "a2: \n",
            "[[3 3]\n",
            " [4 4]]\n"
          ]
        }
      ]
    },
    {
      "cell_type": "code",
      "source": [
        "# Stack the arrays vertically\n",
        "vert_stack = np.vstack((a1, a2))\n",
        "print(vert_stack)"
      ],
      "metadata": {
        "colab": {
          "base_uri": "https://localhost:8080/"
        },
        "id": "C6qwaD5Sv_iS",
        "outputId": "2aae0e42-ff59-4e6e-c165-e7892aa6d122"
      },
      "execution_count": 64,
      "outputs": [
        {
          "output_type": "stream",
          "name": "stdout",
          "text": [
            "[[1 1]\n",
            " [2 2]\n",
            " [3 3]\n",
            " [4 4]]\n"
          ]
        }
      ]
    },
    {
      "cell_type": "code",
      "source": [
        "# Stack the arrays horizontally\n",
        "horz_stack = np.hstack((a1, a2))\n",
        "print(horz_stack)"
      ],
      "metadata": {
        "colab": {
          "base_uri": "https://localhost:8080/"
        },
        "id": "Dvb4t6GCwHwh",
        "outputId": "cd64a295-db75-4ee3-ce2d-90262d199a67"
      },
      "execution_count": 65,
      "outputs": [
        {
          "output_type": "stream",
          "name": "stdout",
          "text": [
            "[[1 1 3 3]\n",
            " [2 2 4 4]]\n"
          ]
        }
      ]
    }
  ]
}